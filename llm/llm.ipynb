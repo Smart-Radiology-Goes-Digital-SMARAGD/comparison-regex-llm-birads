{
 "cells": [
  {
   "cell_type": "code",
   "execution_count": null,
   "id": "2ce69542",
   "metadata": {},
   "outputs": [],
   "source": [
    "from general_classifier import gc"
   ]
  },
  {
   "cell_type": "code",
   "execution_count": null,
   "id": "8edb1b46",
   "metadata": {},
   "outputs": [],
   "source": [
    "gc.setModel(\"rombodawg/Rombos-LLM-V2.6-Qwen-14b\",newInferenceType=\"transformers\",newModelType=\"Transformers\")"
   ]
  },
  {
   "cell_type": "code",
   "execution_count": null,
   "id": "f249c92c",
   "metadata": {},
   "outputs": [],
   "source": [
    "gc.load_topics(\"birads.json\")"
   ]
  },
  {
   "cell_type": "code",
   "execution_count": null,
   "id": "1d98b15a",
   "metadata": {},
   "outputs": [],
   "source": [
    "gc.classify_table(\"birads\", withEvaluation=True, constrainedOutput=True, BATCH_SIZE=100)"
   ]
  }
 ],
 "metadata": {
  "kernelspec": {
   "display_name": "Python 3 (ipykernel)",
   "language": "python",
   "name": "python3"
  },
  "language_info": {
   "codemirror_mode": {
    "name": "ipython",
    "version": 3
   },
   "file_extension": ".py",
   "mimetype": "text/x-python",
   "name": "python",
   "nbconvert_exporter": "python",
   "pygments_lexer": "ipython3",
   "version": "3.11.5"
  }
 },
 "nbformat": 4,
 "nbformat_minor": 5
}
